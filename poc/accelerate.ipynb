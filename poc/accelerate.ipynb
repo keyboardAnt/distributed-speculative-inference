{
 "cells": [
  {
   "cell_type": "markdown",
   "metadata": {},
   "source": [
    "Load HuggingFace `transformers` models over multiple GPUs with a custom `device_map`.\n",
    "First, explore how `accelerate` calculates its `max_memory` (a mapping between devices and their maximum available memory), following https://github.com/huggingface/accelerate/blob/v1.0.0rc1/src/accelerate/utils/modeling.py#L842C37-L842C63"
   ]
  },
  {
   "cell_type": "code",
   "execution_count": 7,
   "metadata": {},
   "outputs": [
    {
     "name": "stdout",
     "output_type": "stream",
     "text": [
      "The current device is 0\n",
      "GPU 0: 44.09 GB free, 44.35 GB total\n",
      "GPU 1: 44.09 GB free, 44.35 GB total\n"
     ]
    }
   ],
   "source": [
    "import torch\n",
    "\n",
    "def print_gpu_memory():\n",
    "    print(f\"The current device is {torch.cuda.current_device()}\")\n",
    "    for i in range(torch.cuda.device_count()):\n",
    "        print(f\"GPU {i}: {torch.cuda.mem_get_info(i)[0] / 1024 / 1024 / 1024:.2f} GB free, {torch.cuda.mem_get_info(i)[1] / 1024 / 1024 / 1024:.2f} GB total\")\n",
    "\n",
    "print_gpu_memory()"
   ]
  },
  {
   "cell_type": "code",
   "execution_count": 8,
   "metadata": {},
   "outputs": [
    {
     "name": "stdout",
     "output_type": "stream",
     "text": [
      "The current device is 0\n",
      "GPU 0: 44.09 GB free, 44.35 GB total\n",
      "GPU 1: 44.09 GB free, 44.35 GB total\n",
      "Loading model...\n",
      "The current device is 0\n",
      "GPU 0: 44.09 GB free, 44.35 GB total\n",
      "GPU 1: 43.56 GB free, 44.35 GB total\n",
      "Deleting model...\n",
      "The current device is 0\n",
      "GPU 0: 44.09 GB free, 44.35 GB total\n",
      "GPU 1: 43.56 GB free, 44.35 GB total\n",
      "Collecting garbage...\n",
      "The current device is 0\n",
      "GPU 0: 44.09 GB free, 44.35 GB total\n",
      "GPU 1: 44.09 GB free, 44.35 GB total\n"
     ]
    }
   ],
   "source": [
    "from transformers import AutoModelForCausalLM\n",
    "import gc\n",
    "\n",
    "\n",
    "def test_memory_leak(model_name=\"gpt2\"):\n",
    "    print_gpu_memory()\n",
    "    print(\"Loading model...\")\n",
    "    model = AutoModelForCausalLM.from_pretrained(model_name, device_map=\"balanced_low_0\", cache_dir=\"/workspace/hf_cache\")\n",
    "    print_gpu_memory()\n",
    "    print(\"Deleting model...\")\n",
    "    del model\n",
    "    print_gpu_memory()\n",
    "    print(\"Collecting garbage...\")\n",
    "    gc.collect()\n",
    "    torch.cuda.empty_cache()\n",
    "    print_gpu_memory()\n",
    "\n",
    "test_memory_leak(model_name=\"gpt2\")"
   ]
  },
  {
   "cell_type": "code",
   "execution_count": 9,
   "metadata": {},
   "outputs": [
    {
     "name": "stdout",
     "output_type": "stream",
     "text": [
      "The current device is 0\n",
      "GPU 0: 44.09 GB free, 44.35 GB total\n",
      "GPU 1: 44.09 GB free, 44.35 GB total\n",
      "Loading model...\n"
     ]
    },
    {
     "name": "stderr",
     "output_type": "stream",
     "text": [
      "Loading checkpoint shards: 100%|██████████| 2/2 [00:10<00:00,  5.50s/it]\n"
     ]
    },
    {
     "name": "stdout",
     "output_type": "stream",
     "text": [
      "The current device is 0\n",
      "GPU 0: 44.09 GB free, 44.35 GB total\n",
      "GPU 1: 18.98 GB free, 44.35 GB total\n",
      "Deleting model...\n",
      "The current device is 0\n",
      "GPU 0: 44.09 GB free, 44.35 GB total\n",
      "GPU 1: 18.98 GB free, 44.35 GB total\n",
      "Collecting garbage...\n",
      "The current device is 0\n",
      "GPU 0: 44.09 GB free, 44.35 GB total\n",
      "GPU 1: 44.09 GB free, 44.35 GB total\n"
     ]
    }
   ],
   "source": [
    "test_memory_leak(model_name=\"lmsys/vicuna-7b-v1.3\")"
   ]
  }
 ],
 "metadata": {
  "kernelspec": {
   "display_name": "distributed-speculative-inference-w7-NjH3e-py3.11",
   "language": "python",
   "name": "python3"
  },
  "language_info": {
   "codemirror_mode": {
    "name": "ipython",
    "version": 3
   },
   "file_extension": ".py",
   "mimetype": "text/x-python",
   "name": "python",
   "nbconvert_exporter": "python",
   "pygments_lexer": "ipython3",
   "version": "3.11.9"
  }
 },
 "nbformat": 4,
 "nbformat_minor": 2
}
