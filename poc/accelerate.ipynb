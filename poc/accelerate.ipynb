{
 "cells": [
  {
   "cell_type": "markdown",
   "metadata": {},
   "source": [
    "Load HuggingFace `transformers` models over multiple GPUs with a custom `device_map`.\n",
    "First, explore how `accelerate` calculates its `max_memory` (a mapping between devices and their maximum available memory), following https://github.com/huggingface/accelerate/blob/v1.0.0rc1/src/accelerate/utils/modeling.py#L842C37-L842C63"
   ]
  },
  {
   "cell_type": "code",
   "execution_count": 1,
   "metadata": {},
   "outputs": [
    {
     "name": "stdout",
     "output_type": "stream",
     "text": [
      "The current device is 0\n",
      "GPU 0: 44.09 GB free, 44.35 GB total\n",
      "GPU 1: 44.09 GB free, 44.35 GB total\n",
      "GPU 2: 44.09 GB free, 44.35 GB total\n",
      "GPU 3: 44.09 GB free, 44.35 GB total\n"
     ]
    }
   ],
   "source": [
    "import torch\n",
    "\n",
    "def print_gpu_memory():\n",
    "    print(f\"The current device is {torch.cuda.current_device()}\")\n",
    "    for i in range(torch.cuda.device_count()):\n",
    "        print(f\"GPU {i}: {torch.cuda.mem_get_info(i)[0] / 1024 / 1024 / 1024:.2f} GB free, {torch.cuda.mem_get_info(i)[1] / 1024 / 1024 / 1024:.2f} GB total\")\n",
    "\n",
    "print_gpu_memory()"
   ]
  },
  {
   "cell_type": "code",
   "execution_count": 2,
   "metadata": {},
   "outputs": [
    {
     "name": "stderr",
     "output_type": "stream",
     "text": [
      "/root/.cache/pypoetry/virtualenvs/distributed-speculative-inference-w7-NjH3e-py3.11/lib/python3.11/site-packages/tqdm/auto.py:21: TqdmWarning: IProgress not found. Please update jupyter and ipywidgets. See https://ipywidgets.readthedocs.io/en/stable/user_install.html\n",
      "  from .autonotebook import tqdm as notebook_tqdm\n"
     ]
    },
    {
     "name": "stdout",
     "output_type": "stream",
     "text": [
      "The current device is 0\n",
      "GPU 0: 44.09 GB free, 44.35 GB total\n",
      "GPU 1: 44.09 GB free, 44.35 GB total\n",
      "GPU 2: 44.09 GB free, 44.35 GB total\n",
      "GPU 3: 44.09 GB free, 44.35 GB total\n",
      "Loading model...\n",
      "The current device is 0\n",
      "GPU 0: 44.09 GB free, 44.35 GB total\n",
      "GPU 1: 43.84 GB free, 44.35 GB total\n",
      "GPU 2: 43.85 GB free, 44.35 GB total\n",
      "GPU 3: 44.05 GB free, 44.35 GB total\n",
      "Collecting garbage...\n",
      "The current device is 0\n",
      "GPU 0: 44.09 GB free, 44.35 GB total\n",
      "GPU 1: 43.84 GB free, 44.35 GB total\n",
      "GPU 2: 43.85 GB free, 44.35 GB total\n",
      "GPU 3: 44.05 GB free, 44.35 GB total\n"
     ]
    }
   ],
   "source": [
    "from transformers import AutoModelForCausalLM\n",
    "import gc\n",
    "\n",
    "\n",
    "def test_memory_leak(model_name=\"gpt2\"):\n",
    "    print_gpu_memory()\n",
    "    print(\"Loading model...\")\n",
    "    model = AutoModelForCausalLM.from_pretrained(model_name, device_map=\"balanced_low_0\", cache_dir=\"/workspace/hf_cache\")\n",
    "    print_gpu_memory()\n",
    "    print(\"Collecting garbage...\")\n",
    "    gc.collect()\n",
    "    torch.cuda.empty_cache()\n",
    "    print_gpu_memory()\n",
    "\n",
    "test_memory_leak(model_name=\"gpt2\")"
   ]
  },
  {
   "cell_type": "code",
   "execution_count": 3,
   "metadata": {},
   "outputs": [
    {
     "name": "stdout",
     "output_type": "stream",
     "text": [
      "The token has not been saved to the git credentials helper. Pass `add_to_git_credential=True` in this function directly or `--add-to-git-credential` if using via `huggingface-cli` if you want to set the git credential as well.\n",
      "Token is valid (permission: read).\n",
      "Your token has been saved to /root/.cache/huggingface/token\n",
      "Login successful\n"
     ]
    }
   ],
   "source": [
    "# login to huggingface using python and getpass\n",
    "from getpass import getpass\n",
    "import os\n",
    "\n",
    "if not os.environ.get(\"HUGGINGFACE_TOKEN\"):\n",
    "    huggingface_token = getpass(\"Enter your HuggingFace token: \")\n",
    "    os.environ[\"HUGGINGFACE_TOKEN\"] = huggingface_token\n",
    "    \n",
    "!huggingface-cli login --token $HUGGINGFACE_TOKEN"
   ]
  },
  {
   "cell_type": "code",
   "execution_count": 4,
   "metadata": {},
   "outputs": [
    {
     "name": "stdout",
     "output_type": "stream",
     "text": [
      "The current device is 0\n",
      "GPU 0: 44.09 GB free, 44.35 GB total\n",
      "GPU 1: 43.84 GB free, 44.35 GB total\n",
      "GPU 2: 43.85 GB free, 44.35 GB total\n",
      "GPU 3: 44.05 GB free, 44.35 GB total\n",
      "Loading model...\n"
     ]
    },
    {
     "name": "stderr",
     "output_type": "stream",
     "text": [
      "Downloading shards: 100%|██████████| 30/30 [09:32<00:00, 19.09s/it]\n",
      "Loading checkpoint shards: 100%|██████████| 30/30 [00:50<00:00,  1.69s/it]\n",
      "WARNING:root:Some parameters are on the meta device device because they were offloaded to the cpu.\n"
     ]
    },
    {
     "name": "stdout",
     "output_type": "stream",
     "text": [
      "The current device is 0\n",
      "GPU 0: 5.11 GB free, 44.35 GB total\n",
      "GPU 1: 2.65 GB free, 44.35 GB total\n",
      "GPU 2: 2.65 GB free, 44.35 GB total\n",
      "GPU 3: 2.65 GB free, 44.35 GB total\n",
      "Collecting garbage...\n",
      "The current device is 0\n",
      "GPU 0: 5.11 GB free, 44.35 GB total\n",
      "GPU 1: 2.65 GB free, 44.35 GB total\n",
      "GPU 2: 2.65 GB free, 44.35 GB total\n",
      "GPU 3: 2.65 GB free, 44.35 GB total\n"
     ]
    },
    {
     "ename": "",
     "evalue": "",
     "output_type": "error",
     "traceback": [
      "\u001b[1;31mThe Kernel crashed while executing code in the current cell or a previous cell. \n",
      "\u001b[1;31mPlease review the code in the cell(s) to identify a possible cause of the failure. \n",
      "\u001b[1;31mClick <a href='https://aka.ms/vscodeJupyterKernelCrash'>here</a> for more info. \n",
      "\u001b[1;31mView Jupyter <a href='command:jupyter.viewOutput'>log</a> for further details."
     ]
    }
   ],
   "source": [
    "test_memory_leak(model_name=\"meta-llama/Meta-Llama-3.1-70B-Instruct\")"
   ]
  }
 ],
 "metadata": {
  "kernelspec": {
   "display_name": "Python 3 (ipykernel)",
   "language": "python",
   "name": "python3"
  },
  "language_info": {
   "codemirror_mode": {
    "name": "ipython",
    "version": 3
   },
   "file_extension": ".py",
   "mimetype": "text/x-python",
   "name": "python",
   "nbconvert_exporter": "python",
   "pygments_lexer": "ipython3",
   "version": "3.11.9"
  }
 },
 "nbformat": 4,
 "nbformat_minor": 2
}
