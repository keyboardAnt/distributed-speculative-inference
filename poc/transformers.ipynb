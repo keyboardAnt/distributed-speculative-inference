{
 "cells": [
  {
   "cell_type": "markdown",
   "metadata": {},
   "source": [
    "# Scores"
   ]
  },
  {
   "cell_type": "markdown",
   "metadata": {},
   "source": [
    "#### Drafter (`generate`)"
   ]
  },
  {
   "cell_type": "markdown",
   "metadata": {},
   "source": [
    "`n=curr_lookahead`"
   ]
  },
  {
   "cell_type": "code",
   "execution_count": 1,
   "metadata": {},
   "outputs": [
    {
     "name": "stderr",
     "output_type": "stream",
     "text": [
      "/root/.cache/pypoetry/virtualenvs/distributed-speculative-inference-w7-NjH3e-py3.11/lib/python3.11/site-packages/tqdm/auto.py:21: TqdmWarning: IProgress not found. Please update jupyter and ipywidgets. See https://ipywidgets.readthedocs.io/en/stable/user_install.html\n",
      "  from .autonotebook import tqdm as notebook_tqdm\n"
     ]
    },
    {
     "name": "stdout",
     "output_type": "stream",
     "text": [
      "tensor([[15496,    11,   616,  1438,   318]])\n",
      "torch.Size([1, 5])\n"
     ]
    },
    {
     "name": "stderr",
     "output_type": "stream",
     "text": [
      "/root/.cache/pypoetry/virtualenvs/distributed-speculative-inference-w7-NjH3e-py3.11/lib/python3.11/site-packages/transformers/tokenization_utils_base.py:1601: FutureWarning: `clean_up_tokenization_spaces` was not set. It will be set to `True` by default. This behavior will be depracted in transformers v4.45, and will be then set to `False` by default. For more details check this issue: https://github.com/huggingface/transformers/issues/31884\n",
      "  warnings.warn(\n"
     ]
    }
   ],
   "source": [
    "from transformers import AutoModelForCausalLM, AutoTokenizer\n",
    "\n",
    "model_name = \"gpt2\"\n",
    "tokenizer = AutoTokenizer.from_pretrained(model_name)\n",
    "tok_ids = tokenizer.encode(\"Hello, my name is\", return_tensors=\"pt\")\n",
    "print(tok_ids)\n",
    "print(tok_ids.shape)"
   ]
  },
  {
   "cell_type": "code",
   "execution_count": 2,
   "metadata": {},
   "outputs": [
    {
     "name": "stderr",
     "output_type": "stream",
     "text": [
      "Setting `pad_token_id` to `eos_token_id`:50256 for open-end generation.\n"
     ]
    },
    {
     "name": "stdout",
     "output_type": "stream",
     "text": [
      "GenerateDecoderOnlyOutput(sequences=tensor([[15496,    11,   616,  1438,   318,  1757,    13,   314,  1101,   257,\n",
      "          6260,    11,   290,   314,  1101]]), scores=(tensor([[-68.4289, -69.0398, -73.2529,  ..., -76.9532, -77.1063, -70.0094]]), tensor([[-65.0738, -66.4413, -71.7042,  ..., -79.9795, -77.5036, -68.6040]]), tensor([[-130.1885, -129.3489, -131.3793,  ..., -141.4481, -142.7361,\n",
      "         -124.0823]]), tensor([[-131.9186, -130.0697, -135.7836,  ..., -141.5105, -134.1392,\n",
      "         -133.0101]]), tensor([[-112.3013, -111.0004, -114.8719,  ..., -119.3571, -119.8524,\n",
      "         -112.7859]]), tensor([[-108.1326, -106.7145, -110.4225,  ..., -115.2539, -114.6338,\n",
      "         -107.9903]]), tensor([[ -95.4683,  -96.0403, -103.7460,  ..., -108.3876, -107.8743,\n",
      "          -99.9795]]), tensor([[-83.7534, -83.9494, -85.5162,  ..., -88.0616, -89.6183, -82.4906]]), tensor([[-110.4278, -109.9855, -113.4881,  ..., -116.3650, -116.2361,\n",
      "         -110.5043]]), tensor([[-144.8037, -143.3270, -147.8548,  ..., -154.3876, -147.2709,\n",
      "         -145.4146]])), logits=None, attentions=None, hidden_states=None, past_key_values=None)\n"
     ]
    }
   ],
   "source": [
    "import torch\n",
    "\n",
    "model = AutoModelForCausalLM.from_pretrained(model_name)\n",
    "outputs = model.generate(\n",
    "    input_ids=tok_ids,\n",
    "    attention_mask=torch.ones_like(tok_ids),\n",
    "    max_new_tokens=10,\n",
    "    do_sample=False,\n",
    "    use_cache=False,\n",
    "    return_dict_in_generate=True,\n",
    "    output_logits=False,\n",
    "    output_scores=True,\n",
    "    output_hidden_states=False,\n",
    "    output_attentions=False,\n",
    ")\n",
    "print(outputs)\n",
    "# print(outputs.shape)"
   ]
  },
  {
   "cell_type": "code",
   "execution_count": 10,
   "metadata": {},
   "outputs": [
    {
     "name": "stdout",
     "output_type": "stream",
     "text": [
      "odict_keys(['sequences', 'scores'])\n"
     ]
    }
   ],
   "source": [
    "# print all the fields of the `outputs` object\n",
    "print(outputs.keys())"
   ]
  },
  {
   "cell_type": "code",
   "execution_count": 11,
   "metadata": {},
   "outputs": [
    {
     "name": "stdout",
     "output_type": "stream",
     "text": [
      "tensor([[15496,    11,   616,  1438,   318,  1757,    13,   314,  1101,   257,\n",
      "          6260,    11,   290,   314,  1101]])\n",
      "[\"Hello, my name is John. I'm a writer, and I'm\"]\n"
     ]
    }
   ],
   "source": [
    "print(outputs.sequences)\n",
    "print(tokenizer.batch_decode(outputs.sequences))"
   ]
  },
  {
   "cell_type": "code",
   "execution_count": 12,
   "metadata": {},
   "outputs": [
    {
     "name": "stdout",
     "output_type": "stream",
     "text": [
      "<class 'tuple'>\n",
      "(tensor([[-68.4289, -69.0398, -73.2529,  ..., -76.9532, -77.1063, -70.0094]]), tensor([[-65.0738, -66.4413, -71.7042,  ..., -79.9795, -77.5036, -68.6040]]), tensor([[-130.1885, -129.3489, -131.3793,  ..., -141.4481, -142.7361,\n",
      "         -124.0823]]), tensor([[-131.9186, -130.0697, -135.7836,  ..., -141.5105, -134.1392,\n",
      "         -133.0101]]), tensor([[-112.3013, -111.0004, -114.8719,  ..., -119.3571, -119.8524,\n",
      "         -112.7859]]), tensor([[-108.1326, -106.7145, -110.4225,  ..., -115.2539, -114.6338,\n",
      "         -107.9903]]), tensor([[ -95.4683,  -96.0403, -103.7460,  ..., -108.3876, -107.8743,\n",
      "          -99.9795]]), tensor([[-83.7534, -83.9494, -85.5162,  ..., -88.0616, -89.6183, -82.4906]]), tensor([[-110.4278, -109.9855, -113.4881,  ..., -116.3650, -116.2361,\n",
      "         -110.5043]]), tensor([[-144.8037, -143.3270, -147.8548,  ..., -154.3876, -147.2709,\n",
      "         -145.4146]]))\n"
     ]
    }
   ],
   "source": [
    "print(type(outputs.scores))\n",
    "print(outputs.scores)"
   ]
  },
  {
   "cell_type": "code",
   "execution_count": 13,
   "metadata": {},
   "outputs": [
    {
     "name": "stdout",
     "output_type": "stream",
     "text": [
      "10\n",
      "torch.Size([1, 50257])\n"
     ]
    },
    {
     "data": {
      "text/plain": [
       "torch.Size([10, 50257])"
      ]
     },
     "execution_count": 13,
     "metadata": {},
     "output_type": "execute_result"
    }
   ],
   "source": [
    "print(len(outputs.scores))\n",
    "print(outputs.scores[0].shape)\n",
    "# Stack the scores as follows.\n",
    "# Instead of the existing shape of the a score (batch=1, vocab), the first dimension is\n",
    "# the sequence and the second is the vocab (num_of_scores, vocab). Since the batch size\n",
    "# is always 1, we can omit the batch dimension. Note that we might get `num_of_scores=1`\n",
    "torch.stack(outputs.scores, dim=0).squeeze(1).shape"
   ]
  },
  {
   "cell_type": "code",
   "execution_count": 14,
   "metadata": {},
   "outputs": [
    {
     "name": "stdout",
     "output_type": "stream",
     "text": [
      "[tensor(1757), tensor(13), tensor(314), tensor(1101), tensor(257), tensor(6260), tensor(11), tensor(290), tensor(314), tensor(1101)]\n",
      "[' John', '.', ' I', \"'m\", ' a', ' writer', ',', ' and', ' I', \"'m\"]\n"
     ]
    }
   ],
   "source": [
    "argmax = [s.argmax() for s in outputs.scores]\n",
    "print(argmax)\n",
    "print(tokenizer.batch_decode(argmax))"
   ]
  },
  {
   "cell_type": "markdown",
   "metadata": {},
   "source": [
    "#### Verifier (`forward`)"
   ]
  },
  {
   "cell_type": "markdown",
   "metadata": {},
   "source": [
    "Needs to provide the `n` scores corresponding to \n",
    "- the last `n-1` tokens, and\n",
    "- the next token"
   ]
  },
  {
   "cell_type": "code",
   "execution_count": 44,
   "metadata": {},
   "outputs": [
    {
     "name": "stdout",
     "output_type": "stream",
     "text": [
      "tok_ids=tensor([[15496,    11,   616,  1438,   318]])\n",
      "tok_ids.shape=torch.Size([1, 5])\n"
     ]
    }
   ],
   "source": [
    "\n",
    "print(f\"{tok_ids=}\")\n",
    "print(f\"{tok_ids.shape=}\")"
   ]
  },
  {
   "cell_type": "code",
   "execution_count": 33,
   "metadata": {},
   "outputs": [
    {
     "data": {
      "text/plain": [
       "CausalLMOutputWithCrossAttentions(loss=None, logits=tensor([[[ -35.2363,  -35.3266,  -38.9754,  ...,  -44.4645,  -43.9975,\n",
       "           -36.4580],\n",
       "         [-112.6171, -114.5832, -116.5725,  ..., -119.0128, -118.8059,\n",
       "          -111.6917],\n",
       "         [ -88.7435,  -89.8644,  -93.1977,  ...,  -92.3839,  -96.1782,\n",
       "           -92.1273],\n",
       "         [ -51.9342,  -53.6023,  -59.3668,  ...,  -62.4015,  -66.0021,\n",
       "           -57.7503],\n",
       "         [ -68.4289,  -69.0398,  -73.2529,  ...,  -76.9532,  -77.1063,\n",
       "           -70.0094]]], grad_fn=<UnsafeViewBackward0>), past_key_values=None, hidden_states=None, attentions=None, cross_attentions=None)"
      ]
     },
     "execution_count": 33,
     "metadata": {},
     "output_type": "execute_result"
    }
   ],
   "source": [
    "outputs = model.forward(\n",
    "    input_ids=tok_ids,\n",
    "    attention_mask=torch.ones_like(tok_ids),\n",
    "    use_cache=False,\n",
    "    return_dict=True,\n",
    "    output_hidden_states=False,\n",
    "    output_attentions=False,\n",
    ")\n",
    "outputs"
   ]
  },
  {
   "cell_type": "code",
   "execution_count": 40,
   "metadata": {},
   "outputs": [
    {
     "data": {
      "text/plain": [
       "torch.Size([1, 5, 50257])"
      ]
     },
     "execution_count": 40,
     "metadata": {},
     "output_type": "execute_result"
    }
   ],
   "source": [
    "outputs.logits.shape"
   ]
  },
  {
   "cell_type": "code",
   "execution_count": 46,
   "metadata": {},
   "outputs": [
    {
     "data": {
      "text/plain": [
       "tensor([[  11,  314, 1438,  318, 1757]])"
      ]
     },
     "execution_count": 46,
     "metadata": {},
     "output_type": "execute_result"
    }
   ],
   "source": [
    "logits_argmax = outputs.logits.argmax(dim=-1)\n",
    "logits_argmax"
   ]
  },
  {
   "cell_type": "code",
   "execution_count": 71,
   "metadata": {},
   "outputs": [
    {
     "data": {
      "text/plain": [
       "tensor([[15496,    11,   314,  1438,   318,  1757]])"
      ]
     },
     "execution_count": 71,
     "metadata": {},
     "output_type": "execute_result"
    }
   ],
   "source": [
    "# Add the first token at the beginning of the logits_argmax\n",
    "torch.cat((tok_ids[0, :1], logits_argmax[0, :])).unsqueeze(0)"
   ]
  },
  {
   "cell_type": "markdown",
   "metadata": {},
   "source": [
    "`model.forward(..., return_dict=True).logits` is a tensor of shape (batch_size, seq_len, vocab_size)"
   ]
  },
  {
   "cell_type": "code",
   "execution_count": 35,
   "metadata": {},
   "outputs": [
    {
     "name": "stdout",
     "output_type": "stream",
     "text": [
      "type(outputs.logits)=<class 'torch.Tensor'>\n",
      "len(outputs.logits)=1\n",
      "type(outputs.logits[0])=<class 'torch.Tensor'>\n",
      "len(outputs.logits[0])=5\n",
      "len(outputs.logits[-1])=5\n",
      "outputs.logits[0][0].shape=torch.Size([50257])\n"
     ]
    }
   ],
   "source": [
    "print(f\"{type(outputs.logits)=}\")\n",
    "print(f\"{len(outputs.logits)=}\")\n",
    "print(f\"{type(outputs.logits[0])=}\")\n",
    "print(f\"{len(outputs.logits[0])=}\")\n",
    "print(f\"{len(outputs.logits[-1])=}\")\n",
    "print(f\"{outputs.logits[0][0].shape=}\")"
   ]
  },
  {
   "cell_type": "markdown",
   "metadata": {},
   "source": [
    "# Preemption"
   ]
  },
  {
   "cell_type": "markdown",
   "metadata": {},
   "source": [
    "Proof-of-concept that we can preempt a long-running call to `transformers`."
   ]
  },
  {
   "cell_type": "code",
   "execution_count": null,
   "metadata": {},
   "outputs": [],
   "source": []
  },
  {
   "cell_type": "markdown",
   "metadata": {},
   "source": [
    "# Rejection sampling"
   ]
  },
  {
   "cell_type": "code",
   "execution_count": 76,
   "metadata": {},
   "outputs": [
    {
     "data": {
      "text/plain": [
       "tensor([0])"
      ]
     },
     "execution_count": 76,
     "metadata": {},
     "output_type": "execute_result"
    }
   ],
   "source": [
    "torch.tensor([ True, False,  True,  True,  True, False]).nonzero()[0]"
   ]
  },
  {
   "cell_type": "markdown",
   "metadata": {},
   "source": [
    "# Temperature & sampling"
   ]
  },
  {
   "cell_type": "code",
   "execution_count": 12,
   "metadata": {},
   "outputs": [
    {
     "name": "stderr",
     "output_type": "stream",
     "text": [
      "The `load_in_4bit` and `load_in_8bit` arguments are deprecated and will be removed in the future versions. Please, pass a `BitsAndBytesConfig` object in `quantization_config` argument instead.\n"
     ]
    },
    {
     "name": "stdout",
     "output_type": "stream",
     "text": [
      "Main: Set Hugging Face cache directory to /workspace/hf_cache\n",
      "Main: Set Hugging Face home directory to /workspace/hf_cache\n"
     ]
    },
    {
     "name": "stderr",
     "output_type": "stream",
     "text": [
      "Loading checkpoint shards: 100%|██████████| 4/4 [01:25<00:00, 21.46s/it]\n",
      "/root/.cache/pypoetry/virtualenvs/distributed-speculative-inference-w7-NjH3e-py3.11/lib/python3.11/site-packages/transformers/generation/configuration_utils.py:567: UserWarning: `do_sample` is set to `False`. However, `temperature` is set to `0.6` -- this flag is only used in sample-based generation modes. You should set `do_sample=True` or unset `temperature`.\n",
      "  warnings.warn(\n",
      "/root/.cache/pypoetry/virtualenvs/distributed-speculative-inference-w7-NjH3e-py3.11/lib/python3.11/site-packages/transformers/generation/configuration_utils.py:572: UserWarning: `do_sample` is set to `False`. However, `top_p` is set to `0.9` -- this flag is only used in sample-based generation modes. You should set `do_sample=True` or unset `top_p`.\n",
      "  warnings.warn(\n",
      "Setting `pad_token_id` to `eos_token_id`:128001 for open-end generation.\n",
      "/root/.cache/pypoetry/virtualenvs/distributed-speculative-inference-w7-NjH3e-py3.11/lib/python3.11/site-packages/transformers/generation/utils.py:1885: UserWarning: You are calling .generate() with the `input_ids` being on a device type different than your model's device. `input_ids` is on cpu, whereas the model is on cuda. You may experience unexpected behaviors or slower generation. Please make sure that you have put `input_ids` to the correct device by calling for example input_ids = input_ids.to('cuda') before running `.generate()`.\n",
      "  warnings.warn(\n"
     ]
    },
    {
     "data": {
      "text/plain": [
       "GenerateDecoderOnlyOutput(sequences=tensor([[128000,  39314,    374,    459,   7754,    430,  16964,    264,   3465,\n",
       "             13,   9842,    264,   2077,    430,  36001,  45695,    279,   1715,\n",
       "            382,  14711,  30151,    512,   3923,   1053,    387,    279,   1888,\n",
       "            955,    315,  10368,    369,    264,   1732,    889,    706,  55652,\n",
       "           1980,  14711,   6075,    512,   2520,    264,   1732,    449,  55652,\n",
       "             11,    279,   1888,    955,    315,  10368,    374,   3629,   3428,\n",
       "             12,  58400,   7640,    430,   1541,    956,   2231,  27639,  26800,\n",
       "            389,    279,  35358,     13,  26379,   2997,  24269,     11,  33162,\n",
       "             11]]), scores=(tensor([[ 7.3828,  9.3125,  3.7773,  ..., -2.1758, -2.1758, -2.1758]]), tensor([[ 5.9648,  6.2812,  1.8799,  ..., -1.7920, -1.7910, -1.7920]]), tensor([[ 5.5781,  5.1875,  3.1113,  ..., -3.6992, -3.6992, -3.6992]]), tensor([[10.2734,  7.1719,  1.8867,  ..., -1.7637, -1.7637, -1.7637]]), tensor([[ 1.6084,  1.9316,  2.2969,  ..., -2.3047, -2.3047, -2.3047]]), tensor([[ 7.7461,  6.5039,  3.5195,  ..., -2.5586, -2.5586, -2.5586]]), tensor([[ 6.5078,  6.1719,  4.2969,  ..., -4.1875, -4.1875, -4.1875]]), tensor([[ 7.7539,  6.2148,  2.1562,  ..., -0.7041, -0.7036, -0.7041]]), tensor([[ 2.6250,  2.3828,  1.8232,  ..., -3.4414, -3.4414, -3.4414]]), tensor([[ 6.5938,  5.7266,  3.5117,  ..., -0.6704, -0.6704, -0.6704]])), logits=None, attentions=None, hidden_states=None, past_key_values=None)"
      ]
     },
     "execution_count": 12,
     "metadata": {},
     "output_type": "execute_result"
    }
   ],
   "source": [
    "import accelerate\n",
    "from poc.actual.utils import set_hf_cache\n",
    "from transformers import AutoModelForCausalLM\n",
    "import torch\n",
    "\n",
    "tok_ids = torch.tensor([[128000,  39314,    374,    459,   7754,    430,  16964,    264,   3465,\n",
    "            13,   9842,    264,   2077,    430,  36001,  45695,    279,   1715,\n",
    "           382,  14711,  30151,    512,   3923,   1053,    387,    279,   1888,\n",
    "           955,    315,  10368,    369,    264,   1732,    889,    706,  55652,\n",
    "          1980,  14711,   6075,    512,   2520,    264,   1732,    449,  55652,\n",
    "            11,    279,   1888,    955,    315,  10368,    374,   3629,   3428,\n",
    "            12,  58400,   7640,    430,   1541,    956,   2231,  27639,  26800   ]])\n",
    "\n",
    "cache_dir = set_hf_cache()\n",
    "model = AutoModelForCausalLM.from_pretrained(\"meta-llama/Meta-Llama-3.1-8B-Instruct\", device_map=\"auto\", load_in_8bit=True, cache_dir=cache_dir)\n",
    "\n",
    "model.generate(\n",
    "    input_ids=tok_ids,\n",
    "    attention_mask=torch.ones_like(tok_ids),\n",
    "    max_new_tokens=10,\n",
    "    do_sample=False,\n",
    "    use_cache=False,\n",
    "    return_dict_in_generate=True,\n",
    "    output_scores=True,\n",
    "    output_logits=False,\n",
    "    output_hidden_states=False,\n",
    "    output_attentions=False,\n",
    ")"
   ]
  },
  {
   "cell_type": "code",
   "execution_count": 13,
   "metadata": {},
   "outputs": [
    {
     "name": "stderr",
     "output_type": "stream",
     "text": [
      "/root/.cache/pypoetry/virtualenvs/distributed-speculative-inference-w7-NjH3e-py3.11/lib/python3.11/site-packages/transformers/generation/configuration_utils.py:567: UserWarning: `do_sample` is set to `False`. However, `temperature` is set to `0.6` -- this flag is only used in sample-based generation modes. You should set `do_sample=True` or unset `temperature`.\n",
      "  warnings.warn(\n",
      "/root/.cache/pypoetry/virtualenvs/distributed-speculative-inference-w7-NjH3e-py3.11/lib/python3.11/site-packages/transformers/generation/configuration_utils.py:572: UserWarning: `do_sample` is set to `False`. However, `top_p` is set to `0.9` -- this flag is only used in sample-based generation modes. You should set `do_sample=True` or unset `top_p`.\n",
      "  warnings.warn(\n",
      "Setting `pad_token_id` to `eos_token_id`:128001 for open-end generation.\n",
      "/root/.cache/pypoetry/virtualenvs/distributed-speculative-inference-w7-NjH3e-py3.11/lib/python3.11/site-packages/transformers/generation/utils.py:1885: UserWarning: You are calling .generate() with the `input_ids` being on a device type different than your model's device. `input_ids` is on cpu, whereas the model is on cuda. You may experience unexpected behaviors or slower generation. Please make sure that you have put `input_ids` to the correct device by calling for example input_ids = input_ids.to('cuda') before running `.generate()`.\n",
      "  warnings.warn(\n",
      "/root/.cache/pypoetry/virtualenvs/distributed-speculative-inference-w7-NjH3e-py3.11/lib/python3.11/site-packages/transformers/generation/configuration_utils.py:567: UserWarning: `do_sample` is set to `False`. However, `temperature` is set to `0.6` -- this flag is only used in sample-based generation modes. You should set `do_sample=True` or unset `temperature`.\n",
      "  warnings.warn(\n",
      "/root/.cache/pypoetry/virtualenvs/distributed-speculative-inference-w7-NjH3e-py3.11/lib/python3.11/site-packages/transformers/generation/configuration_utils.py:572: UserWarning: `do_sample` is set to `False`. However, `top_p` is set to `0.9` -- this flag is only used in sample-based generation modes. You should set `do_sample=True` or unset `top_p`.\n",
      "  warnings.warn(\n",
      "Setting `pad_token_id` to `eos_token_id`:128001 for open-end generation.\n",
      "/root/.cache/pypoetry/virtualenvs/distributed-speculative-inference-w7-NjH3e-py3.11/lib/python3.11/site-packages/transformers/generation/utils.py:1885: UserWarning: You are calling .generate() with the `input_ids` being on a device type different than your model's device. `input_ids` is on cpu, whereas the model is on cuda. You may experience unexpected behaviors or slower generation. Please make sure that you have put `input_ids` to the correct device by calling for example input_ids = input_ids.to('cuda') before running `.generate()`.\n",
      "  warnings.warn(\n",
      "Setting `pad_token_id` to `eos_token_id`:128001 for open-end generation.\n",
      "Setting `pad_token_id` to `eos_token_id`:128001 for open-end generation.\n",
      "Setting `pad_token_id` to `eos_token_id`:128001 for open-end generation.\n",
      "Setting `pad_token_id` to `eos_token_id`:128001 for open-end generation.\n",
      "Setting `pad_token_id` to `eos_token_id`:128001 for open-end generation.\n",
      "Setting `pad_token_id` to `eos_token_id`:128001 for open-end generation.\n",
      "Setting `pad_token_id` to `eos_token_id`:128001 for open-end generation.\n",
      "Setting `pad_token_id` to `eos_token_id`:128001 for open-end generation.\n"
     ]
    },
    {
     "data": {
      "text/plain": [
       "[tensor([[128000,  39314,    374,    459,   7754,    430,  16964,    264,   3465,\n",
       "              13,   9842,    264,   2077,    430,  36001,  45695,    279,   1715,\n",
       "             382,  14711,  30151,    512,   3923,   1053,    387,    279,   1888,\n",
       "             955,    315,  10368,    369,    264,   1732,    889,    706,  55652,\n",
       "            1980,  14711,   6075,    512,   2520,    264,   1732,    449,  55652,\n",
       "              11,    279,   1888,    955,    315,  10368,    374,   3629,   3428,\n",
       "              12,  58400,   7640,    430,   1541,    956,   2231,  27639,  26800,\n",
       "             389,    279,  35358,     13,  26379,   2997,  24269,     11,  33162,\n",
       "              11]]),\n",
       " tensor([[128000,  39314,    374,    459,   7754,    430,  16964,    264,   3465,\n",
       "              13,   9842,    264,   2077,    430,  36001,  45695,    279,   1715,\n",
       "             382,  14711,  30151,    512,   3923,   1053,    387,    279,   1888,\n",
       "             955,    315,  10368,    369,    264,   1732,    889,    706,  55652,\n",
       "            1980,  14711,   6075,    512,   2520,    264,   1732,    449,  55652,\n",
       "              11,    279,   1888,    955,    315,  10368,    374,   3629,   3428,\n",
       "              12,  58400,   7640,    430,   1541,    956,   2231,  27639,  26800,\n",
       "             389,    279,  35358,     13,  26379,   2997,  24269,     11,  33162,\n",
       "              11]]),\n",
       " tensor([[128000,  39314,    374,    459,   7754,    430,  16964,    264,   3465,\n",
       "              13,   9842,    264,   2077,    430,  36001,  45695,    279,   1715,\n",
       "             382,  14711,  30151,    512,   3923,   1053,    387,    279,   1888,\n",
       "             955,    315,  10368,    369,    264,   1732,    889,    706,  55652,\n",
       "            1980,  14711,   6075,    512,   2520,    264,   1732,    449,  55652,\n",
       "              11,    279,   1888,    955,    315,  10368,    374,   3629,   3428,\n",
       "              12,  58400,   7640,    430,   1541,    956,   2231,  27639,  26800,\n",
       "             389,    279,  35358,     13,  26379,   2997,  24269,     11,  33162,\n",
       "              11]]),\n",
       " tensor([[128000,  39314,    374,    459,   7754,    430,  16964,    264,   3465,\n",
       "              13,   9842,    264,   2077,    430,  36001,  45695,    279,   1715,\n",
       "             382,  14711,  30151,    512,   3923,   1053,    387,    279,   1888,\n",
       "             955,    315,  10368,    369,    264,   1732,    889,    706,  55652,\n",
       "            1980,  14711,   6075,    512,   2520,    264,   1732,    449,  55652,\n",
       "              11,    279,   1888,    955,    315,  10368,    374,   3629,   3428,\n",
       "              12,  58400,   7640,    430,   1541,    956,   2231,  27639,  26800,\n",
       "             389,    279,  35358,     13,  26379,   2997,  24269,     11,  33162,\n",
       "              11]]),\n",
       " tensor([[128000,  39314,    374,    459,   7754,    430,  16964,    264,   3465,\n",
       "              13,   9842,    264,   2077,    430,  36001,  45695,    279,   1715,\n",
       "             382,  14711,  30151,    512,   3923,   1053,    387,    279,   1888,\n",
       "             955,    315,  10368,    369,    264,   1732,    889,    706,  55652,\n",
       "            1980,  14711,   6075,    512,   2520,    264,   1732,    449,  55652,\n",
       "              11,    279,   1888,    955,    315,  10368,    374,   3629,   3428,\n",
       "              12,  58400,   7640,    430,   1541,    956,   2231,  27639,  26800,\n",
       "             389,    279,  35358,     13,  26379,   2997,  24269,     11,  33162,\n",
       "              11]]),\n",
       " tensor([[128000,  39314,    374,    459,   7754,    430,  16964,    264,   3465,\n",
       "              13,   9842,    264,   2077,    430,  36001,  45695,    279,   1715,\n",
       "             382,  14711,  30151,    512,   3923,   1053,    387,    279,   1888,\n",
       "             955,    315,  10368,    369,    264,   1732,    889,    706,  55652,\n",
       "            1980,  14711,   6075,    512,   2520,    264,   1732,    449,  55652,\n",
       "              11,    279,   1888,    955,    315,  10368,    374,   3629,   3428,\n",
       "              12,  58400,   7640,    430,   1541,    956,   2231,  27639,  26800,\n",
       "             389,    279,  35358,     13,  26379,   2997,  24269,     11,  33162,\n",
       "              11]]),\n",
       " tensor([[128000,  39314,    374,    459,   7754,    430,  16964,    264,   3465,\n",
       "              13,   9842,    264,   2077,    430,  36001,  45695,    279,   1715,\n",
       "             382,  14711,  30151,    512,   3923,   1053,    387,    279,   1888,\n",
       "             955,    315,  10368,    369,    264,   1732,    889,    706,  55652,\n",
       "            1980,  14711,   6075,    512,   2520,    264,   1732,    449,  55652,\n",
       "              11,    279,   1888,    955,    315,  10368,    374,   3629,   3428,\n",
       "              12,  58400,   7640,    430,   1541,    956,   2231,  27639,  26800,\n",
       "             389,    279,  35358,     13,  26379,   2997,  24269,     11,  33162,\n",
       "              11]]),\n",
       " tensor([[128000,  39314,    374,    459,   7754,    430,  16964,    264,   3465,\n",
       "              13,   9842,    264,   2077,    430,  36001,  45695,    279,   1715,\n",
       "             382,  14711,  30151,    512,   3923,   1053,    387,    279,   1888,\n",
       "             955,    315,  10368,    369,    264,   1732,    889,    706,  55652,\n",
       "            1980,  14711,   6075,    512,   2520,    264,   1732,    449,  55652,\n",
       "              11,    279,   1888,    955,    315,  10368,    374,   3629,   3428,\n",
       "              12,  58400,   7640,    430,   1541,    956,   2231,  27639,  26800,\n",
       "             389,    279,  35358,     13,  26379,   2997,  24269,     11,  33162,\n",
       "              11]]),\n",
       " tensor([[128000,  39314,    374,    459,   7754,    430,  16964,    264,   3465,\n",
       "              13,   9842,    264,   2077,    430,  36001,  45695,    279,   1715,\n",
       "             382,  14711,  30151,    512,   3923,   1053,    387,    279,   1888,\n",
       "             955,    315,  10368,    369,    264,   1732,    889,    706,  55652,\n",
       "            1980,  14711,   6075,    512,   2520,    264,   1732,    449,  55652,\n",
       "              11,    279,   1888,    955,    315,  10368,    374,   3629,   3428,\n",
       "              12,  58400,   7640,    430,   1541,    956,   2231,  27639,  26800,\n",
       "             389,    279,  35358,     13,  26379,   2997,  24269,     11,  33162,\n",
       "              11]]),\n",
       " tensor([[128000,  39314,    374,    459,   7754,    430,  16964,    264,   3465,\n",
       "              13,   9842,    264,   2077,    430,  36001,  45695,    279,   1715,\n",
       "             382,  14711,  30151,    512,   3923,   1053,    387,    279,   1888,\n",
       "             955,    315,  10368,    369,    264,   1732,    889,    706,  55652,\n",
       "            1980,  14711,   6075,    512,   2520,    264,   1732,    449,  55652,\n",
       "              11,    279,   1888,    955,    315,  10368,    374,   3629,   3428,\n",
       "              12,  58400,   7640,    430,   1541,    956,   2231,  27639,  26800,\n",
       "             389,    279,  35358,     13,  26379,   2997,  24269,     11,  33162,\n",
       "              11]])]"
      ]
     },
     "execution_count": 13,
     "metadata": {},
     "output_type": "execute_result"
    }
   ],
   "source": [
    "all_seqs = []\n",
    "for _ in range(10):\n",
    "    outputs = model.generate(\n",
    "        input_ids=tok_ids,\n",
    "        attention_mask=torch.ones_like(tok_ids),\n",
    "        max_new_tokens=10,\n",
    "        do_sample=False,\n",
    "        use_cache=False,\n",
    "        return_dict_in_generate=True,\n",
    "        output_scores=True,\n",
    "        output_logits=False,\n",
    "        output_hidden_states=False,\n",
    "        output_attentions=False,\n",
    "    )\n",
    "    all_seqs.append(outputs.sequences)\n",
    "all_seqs"
   ]
  },
  {
   "cell_type": "code",
   "execution_count": 14,
   "metadata": {},
   "outputs": [
    {
     "data": {
      "text/plain": [
       "[tensor(True),\n",
       " tensor(True),\n",
       " tensor(True),\n",
       " tensor(True),\n",
       " tensor(True),\n",
       " tensor(True),\n",
       " tensor(True),\n",
       " tensor(True),\n",
       " tensor(True),\n",
       " tensor(True)]"
      ]
     },
     "execution_count": 14,
     "metadata": {},
     "output_type": "execute_result"
    }
   ],
   "source": [
    "[(all_seqs[0] == s).all() for s in all_seqs]"
   ]
  },
  {
   "cell_type": "code",
   "execution_count": null,
   "metadata": {},
   "outputs": [],
   "source": [
    "model(tok_ids)"
   ]
  }
 ],
 "metadata": {
  "kernelspec": {
   "display_name": ".venv",
   "language": "python",
   "name": "python3"
  },
  "language_info": {
   "codemirror_mode": {
    "name": "ipython",
    "version": 3
   },
   "file_extension": ".py",
   "mimetype": "text/x-python",
   "name": "python",
   "nbconvert_exporter": "python",
   "pygments_lexer": "ipython3",
   "version": "3.11.9"
  }
 },
 "nbformat": 4,
 "nbformat_minor": 2
}
