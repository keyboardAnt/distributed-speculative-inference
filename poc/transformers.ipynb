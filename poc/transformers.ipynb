{
 "cells": [
  {
   "cell_type": "markdown",
   "metadata": {},
   "source": [
    "# Scores"
   ]
  },
  {
   "cell_type": "code",
   "execution_count": 4,
   "metadata": {},
   "outputs": [
    {
     "name": "stdout",
     "output_type": "stream",
     "text": [
      "tensor([[15496,    11,   616,  1438,   318]])\n",
      "torch.Size([1, 5])\n"
     ]
    },
    {
     "name": "stderr",
     "output_type": "stream",
     "text": [
      "/workspaces/distributed-speculative-inference/.venv/lib/python3.10/site-packages/transformers/tokenization_utils_base.py:1601: FutureWarning: `clean_up_tokenization_spaces` was not set. It will be set to `True` by default. This behavior will be depracted in transformers v4.45, and will be then set to `False` by default. For more details check this issue: https://github.com/huggingface/transformers/issues/31884\n",
      "  warnings.warn(\n"
     ]
    }
   ],
   "source": [
    "from transformers import AutoModelForCausalLM, AutoTokenizer\n",
    "\n",
    "model_name = \"gpt2\"\n",
    "tokenizer = AutoTokenizer.from_pretrained(model_name)\n",
    "tok_ids = tokenizer.encode(\"Hello, my name is\", return_tensors=\"pt\")\n",
    "print(tok_ids)\n",
    "print(tok_ids.shape)"
   ]
  },
  {
   "cell_type": "code",
   "execution_count": 45,
   "metadata": {},
   "outputs": [
    {
     "name": "stderr",
     "output_type": "stream",
     "text": [
      "Setting `pad_token_id` to `eos_token_id`:50256 for open-end generation.\n"
     ]
    },
    {
     "name": "stdout",
     "output_type": "stream",
     "text": [
      "GenerateDecoderOnlyOutput(sequences=tensor([[15496,    11,   616,  1438,   318,  1757,    13,   314,  1101,   257,\n",
      "          6260,    11,   290,   314,  1101]]), scores=(tensor([[-68.4289, -69.0397, -73.2529,  ..., -76.9531, -77.1063, -70.0094]]), tensor([[-65.0738, -66.4413, -71.7042,  ..., -79.9795, -77.5036, -68.6040]]), tensor([[-130.1886, -129.3490, -131.3795,  ..., -141.4483, -142.7363,\n",
      "         -124.0823]]), tensor([[-131.9187, -130.0697, -135.7836,  ..., -141.5104, -134.1392,\n",
      "         -133.0103]]), tensor([[-112.3013, -111.0005, -114.8719,  ..., -119.3572, -119.8524,\n",
      "         -112.7859]]), tensor([[-108.1326, -106.7145, -110.4225,  ..., -115.2540, -114.6338,\n",
      "         -107.9902]]), tensor([[ -95.4683,  -96.0403, -103.7461,  ..., -108.3876, -107.8743,\n",
      "          -99.9795]]), tensor([[-83.7534, -83.9493, -85.5163,  ..., -88.0616, -89.6183, -82.4906]]), tensor([[-110.4278, -109.9855, -113.4881,  ..., -116.3650, -116.2361,\n",
      "         -110.5043]]), tensor([[-144.8037, -143.3270, -147.8548,  ..., -154.3877, -147.2710,\n",
      "         -145.4144]])), logits=None, attentions=None, hidden_states=None, past_key_values=None)\n"
     ]
    }
   ],
   "source": [
    "import torch\n",
    "\n",
    "model = AutoModelForCausalLM.from_pretrained(model_name)\n",
    "outputs = model.generate(\n",
    "    input_ids=tok_ids,\n",
    "    attention_mask=torch.ones_like(tok_ids),\n",
    "    max_new_tokens=10,\n",
    "    do_sample=False,\n",
    "    use_cache=False,\n",
    "    return_dict_in_generate=True,\n",
    "    output_logits=False,\n",
    "    output_scores=True,\n",
    "    output_hidden_states=False,\n",
    "    output_attentions=False,\n",
    ")\n",
    "print(outputs)\n",
    "# print(outputs.shape)"
   ]
  },
  {
   "cell_type": "code",
   "execution_count": 14,
   "metadata": {},
   "outputs": [
    {
     "name": "stdout",
     "output_type": "stream",
     "text": [
      "odict_keys(['sequences', 'scores'])\n"
     ]
    }
   ],
   "source": [
    "# print all the fields of the `outputs` object\n",
    "print(outputs.keys())"
   ]
  },
  {
   "cell_type": "code",
   "execution_count": 22,
   "metadata": {},
   "outputs": [
    {
     "name": "stdout",
     "output_type": "stream",
     "text": [
      "tensor([[15496,    11,   616,  1438,   318,  1757,    13,   314,  1101,   257,\n",
      "          6260,    11,   290,   314,  1101]])\n",
      "[\"Hello, my name is John. I'm a writer, and I'm\"]\n"
     ]
    }
   ],
   "source": [
    "print(outputs.sequences)\n",
    "print(tokenizer.batch_decode(outputs.sequences))"
   ]
  },
  {
   "cell_type": "code",
   "execution_count": 34,
   "metadata": {},
   "outputs": [
    {
     "name": "stdout",
     "output_type": "stream",
     "text": [
      "<class 'tuple'>\n",
      "(tensor([[-68.4289, -69.0397, -73.2529,  ..., -76.9531, -77.1063, -70.0094]]), tensor([[-65.0738, -66.4413, -71.7042,  ..., -79.9795, -77.5036, -68.6040]]), tensor([[-130.1886, -129.3490, -131.3795,  ..., -141.4483, -142.7363,\n",
      "         -124.0823]]), tensor([[-131.9187, -130.0697, -135.7836,  ..., -141.5104, -134.1392,\n",
      "         -133.0103]]), tensor([[-112.3013, -111.0005, -114.8719,  ..., -119.3572, -119.8524,\n",
      "         -112.7859]]), tensor([[-108.1326, -106.7145, -110.4225,  ..., -115.2540, -114.6338,\n",
      "         -107.9902]]), tensor([[ -95.4683,  -96.0403, -103.7461,  ..., -108.3876, -107.8743,\n",
      "          -99.9795]]), tensor([[-83.7534, -83.9493, -85.5163,  ..., -88.0616, -89.6183, -82.4906]]), tensor([[-110.4278, -109.9855, -113.4881,  ..., -116.3650, -116.2361,\n",
      "         -110.5043]]), tensor([[-144.8037, -143.3270, -147.8548,  ..., -154.3877, -147.2710,\n",
      "         -145.4144]]))\n"
     ]
    }
   ],
   "source": [
    "print(type(outputs.scores))\n",
    "print(outputs.scores)"
   ]
  },
  {
   "cell_type": "code",
   "execution_count": 46,
   "metadata": {},
   "outputs": [
    {
     "name": "stdout",
     "output_type": "stream",
     "text": [
      "10\n",
      "torch.Size([1, 50257])\n"
     ]
    },
    {
     "data": {
      "text/plain": [
       "torch.Size([10, 50257])"
      ]
     },
     "execution_count": 46,
     "metadata": {},
     "output_type": "execute_result"
    }
   ],
   "source": [
    "print(len(outputs.scores))\n",
    "print(outputs.scores[0].shape)\n",
    "# Stack the scores as follows.\n",
    "# Instead of the existing shape of the a score (batch=1, vocab), the first dimension is\n",
    "# the sequence and the second is the vocab (num_of_scores, vocab). Since the batch size\n",
    "# is always 1, we can omit the batch dimension. Note that we might get `num_of_scores=1`\n",
    "torch.stack(outputs.scores, dim=0).squeeze(1).shape"
   ]
  },
  {
   "cell_type": "code",
   "execution_count": 26,
   "metadata": {},
   "outputs": [
    {
     "name": "stdout",
     "output_type": "stream",
     "text": [
      "[tensor(1757), tensor(13), tensor(314), tensor(1101), tensor(257), tensor(6260), tensor(11), tensor(290), tensor(314), tensor(1101)]\n",
      "[' John', '.', ' I', \"'m\", ' a', ' writer', ',', ' and', ' I', \"'m\"]\n"
     ]
    }
   ],
   "source": [
    "argmax = [s.argmax() for s in outputs.scores]\n",
    "print(argmax)\n",
    "print(tokenizer.batch_decode(argmax))"
   ]
  },
  {
   "cell_type": "markdown",
   "metadata": {},
   "source": [
    "# Preemption"
   ]
  },
  {
   "cell_type": "markdown",
   "metadata": {},
   "source": [
    "Proof-of-concept that we can preempt a long-running call to `transformers`."
   ]
  },
  {
   "cell_type": "code",
   "execution_count": null,
   "metadata": {},
   "outputs": [],
   "source": []
  }
 ],
 "metadata": {
  "kernelspec": {
   "display_name": ".venv",
   "language": "python",
   "name": "python3"
  },
  "language_info": {
   "codemirror_mode": {
    "name": "ipython",
    "version": 3
   },
   "file_extension": ".py",
   "mimetype": "text/x-python",
   "name": "python",
   "nbconvert_exporter": "python",
   "pygments_lexer": "ipython3",
   "version": "3.10.14"
  }
 },
 "nbformat": 4,
 "nbformat_minor": 2
}
